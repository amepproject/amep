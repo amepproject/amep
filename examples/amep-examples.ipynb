{
 "cells": [
  {
   "cell_type": "markdown",
   "id": "2f584286",
   "metadata": {},
   "source": [
    "**<center>AMEP Examples</center>**\n",
    "\n",
    "<center>&copy; 2024 Lukas Hecht and the AMEP development team</center>"
   ]
  },
  {
   "attachments": {
    "amep-logo_v2_small.png": {
     "image/png": "[encoded data removed]"
    }
   },
   "cell_type": "markdown",
   "id": "c3ccdb3d",
   "metadata": {},
   "source": [
    "![amep-logo_v2_small.png](attachment:amep-logo_v2_small.png)"
   ]
  },
  {
   "cell_type": "markdown",
   "id": "b0e6366b",
   "metadata": {},
   "source": [
    "Welcome to the **A**ctive **M**atter **E**valuation **P**ackage (**AMEP**)! This Jupyter notebook serves as a starting point for everyone who uses **AMEP** for the first time. It provides two basic examples based on the data available at https://github.com/amepproject/amep/tree/main/examples/data:\n",
    "\n",
    "[**Download zip**](https://download-directory.github.io/?url=https://github.com/amepproject/amep/tree/main/examples/data)\n",
    "\n",
    "In the first example, we analyze simulation data from a LAMMPS simulation of active Brownian particles, in the second example of a continuum simulation of the Keller-Segel model for chemotaxis."
   ]
  },
  {
   "cell_type": "code",
   "execution_count": null,
   "id": "6506b200",
   "metadata": {},
   "outputs": [],
   "source": [
    "# import required modules\n",
    "import amep\n",
    "import numpy as np"
   ]
  },
  {
   "cell_type": "markdown",
   "id": "2702bb87",
   "metadata": {},
   "source": [
    "# Example 1: Particle-based data (active Brownian particles)"
   ]
  },
  {
   "cell_type": "markdown",
   "id": "d406122a",
   "metadata": {},
   "source": [
    "First, we load the simulation data and animate it:"
   ]
  },
  {
   "cell_type": "code",
   "execution_count": null,
   "id": "67cae7de",
   "metadata": {},
   "outputs": [],
   "source": [
    "# load simulation data (returns a ParticleTrajectory object)\n",
    "traj = amep.load.traj(\n",
    "    './data/lammps',\n",
    "    mode = 'lammps',\n",
    "    dumps = 'dump*.txt',\n",
    "    savedir = './data',\n",
    "    trajfile = 'lammps.h5amep'\n",
    ")"
   ]
  },
  {
   "cell_type": "code",
   "execution_count": null,
   "id": "c7548865",
   "metadata": {},
   "outputs": [],
   "source": [
    "# visualize the trajectories of the particles\n",
    "traj.animate('./particles.mp4', xlabel=r'$x$', ylabel=r'$y$')"
   ]
  },
  {
   "cell_type": "markdown",
   "id": "f204e161",
   "metadata": {},
   "source": [
    "Next, we calculate three observables: the mean-square displacement (MSD), the orientational autocorrelation function (OACF), and the radial distribution function (RDF)."
   ]
  },
  {
   "cell_type": "code",
   "execution_count": null,
   "id": "8cf56c2b",
   "metadata": {},
   "outputs": [],
   "source": [
    "# calculate the mean-square displacement of the particles\n",
    "msd = amep.evaluate.MSD(traj)"
   ]
  },
  {
   "cell_type": "code",
   "execution_count": null,
   "id": "99ec5f2d",
   "metadata": {},
   "outputs": [],
   "source": [
    "# calculate the orientational autocorrelation function\n",
    "oacf = amep.evaluate.OACF(traj)"
   ]
  },
  {
   "cell_type": "code",
   "execution_count": null,
   "id": "6c351ef0",
   "metadata": {},
   "outputs": [],
   "source": [
    "# calculate the radial distribution function averaged over 10 frames\n",
    "# (here we skip the first 80 % of the trajectory and do the calculation\n",
    "# in parallel with 4 jobs)\n",
    "rdf = amep.evaluate.RDF(\n",
    "    traj, nav = 10, skip = 0.8, njobs = 4\n",
    ")"
   ]
  },
  {
   "cell_type": "markdown",
   "id": "48064f76",
   "metadata": {},
   "source": [
    "Let us now save the results in a file:"
   ]
  },
  {
   "cell_type": "code",
   "execution_count": null,
   "id": "7a0d6a37",
   "metadata": {},
   "outputs": [],
   "source": [
    "# save all analysis results in separate HDF5 files\n",
    "msd.save('./msd.h5')\n",
    "oacf.save('./oacf.h5')\n",
    "rdf.save('./rdf.h5')"
   ]
  },
  {
   "cell_type": "markdown",
   "id": "9d9f68c7",
   "metadata": {},
   "source": [
    "Alternatively, you can save all results in one HDF5 file using AMEP's evaluation database feature:"
   ]
  },
  {
   "cell_type": "code",
   "execution_count": null,
   "id": "abd31b5d",
   "metadata": {},
   "outputs": [],
   "source": [
    "# save all analysis results in one database file\n",
    "msd.save('./results-db.h5', database = True)\n",
    "oacf.save('./results-db.h5', database = True)\n",
    "rdf.save('./results-db.h5', database = True)"
   ]
  },
  {
   "cell_type": "markdown",
   "id": "c43f1024",
   "metadata": {},
   "source": [
    "The results can later be loaded using the `amep.load.evaluation` function for further processing."
   ]
  },
  {
   "cell_type": "markdown",
   "id": "2ac46f0e",
   "metadata": {},
   "source": [
    "Finally, we will exemplarily fit the orientational correlation function to extract the correlation time and plot all results using AMEP's Matplotlib wrapper. For that, we will first load the previously stored analysis results from the database file. Second, we will define the fit function and plot the results."
   ]
  },
  {
   "cell_type": "code",
   "execution_count": null,
   "id": "d8c63850",
   "metadata": {},
   "outputs": [],
   "source": [
    "# load all analysis data\n",
    "results = amep.load.evaluation(\n",
    "    './results-db.h5',\n",
    "    database = True\n",
    ")"
   ]
  },
  {
   "cell_type": "code",
   "execution_count": null,
   "id": "72c42a66",
   "metadata": {},
   "outputs": [],
   "source": [
    "# check which data is available within the loaded file\n",
    "results.keys()"
   ]
  },
  {
   "cell_type": "code",
   "execution_count": null,
   "id": "b9dca959",
   "metadata": {},
   "outputs": [],
   "source": [
    "# fit the OACF results\n",
    "def f(t, tau=1.0):\n",
    "    return np.exp(-t/tau)\n",
    "\n",
    "fit = amep.functions.Fit(f)\n",
    "fit.fit(results.oacf.times, results.oacf.frames)\n",
    "\n",
    "print(f\"Fit result: tau = {fit.params[0]} +/- {fit.errors[0]}\")"
   ]
  },
  {
   "cell_type": "code",
   "execution_count": null,
   "id": "53b75119",
   "metadata": {},
   "outputs": [],
   "source": [
    "# create a figure object\n",
    "fig, axs = amep.plot.new(\n",
    "    (6.5,2),\n",
    "    ncols = 3,\n",
    "    wspace = 0.1\n",
    ")\n",
    "\n",
    "# plot the MSD in a log-log plot\n",
    "axs[0].plot(\n",
    "    results.msd.times,\n",
    "    results.msd.frames,\n",
    "    label=\"data\",\n",
    "    marker=''\n",
    ")\n",
    "axs[0].set_xlabel(\"Time\")\n",
    "axs[0].set_ylabel(\"MSD\")\n",
    "axs[0].loglog()\n",
    "\n",
    "# plot the OACF and the fit with logarithmic x axis\n",
    "axs[1].plot(\n",
    "    results.oacf.times,\n",
    "    results.oacf.frames,\n",
    "    label=\"data\",\n",
    "    marker=''\n",
    ")\n",
    "axs[1].plot(\n",
    "    results.oacf.times,\n",
    "    fit.generate(results.oacf.times),\n",
    "    label=\"fit\",\n",
    "    marker='',\n",
    "    color='orange',\n",
    "    linestyle='--'\n",
    ")\n",
    "axs[1].set_xlabel(\"Time\")\n",
    "axs[1].set_ylabel(\"OACF\")\n",
    "axs[1].semilogx()\n",
    "axs[1].legend()\n",
    "\n",
    "# plot the RDF\n",
    "axs[2].plot(\n",
    "    results.rdf.r,\n",
    "    results.rdf.avg,\n",
    "    marker=''\n",
    ")\n",
    "axs[2].set_xlabel(\"Distance\")\n",
    "axs[2].set_ylabel(\"RDF\")\n",
    "\n",
    "# save the figure as a pdf file\n",
    "fig.savefig(\"particle-example.pdf\")"
   ]
  },
  {
   "cell_type": "markdown",
   "id": "88df0255",
   "metadata": {},
   "source": [
    "# Example 2: Continuum data (Keller-Segel model)"
   ]
  },
  {
   "cell_type": "markdown",
   "id": "5fa0f554",
   "metadata": {},
   "source": [
    "First, we load the simulation data:"
   ]
  },
  {
   "cell_type": "code",
   "execution_count": null,
   "id": "c071fafe",
   "metadata": {},
   "outputs": [],
   "source": [
    "# load simulation data (returns a FieldTrajectory object)\n",
    "traj = amep.load.traj(\n",
    "    './data/continuum',\n",
    "    mode = 'field',\n",
    "    dumps = 'field_*.txt',\n",
    "    timestep = 0.01,\n",
    "    savedir = './data',\n",
    "    trajfile = 'continuum.h5amep'\n",
    ")"
   ]
  },
  {
   "cell_type": "markdown",
   "id": "89f677f0",
   "metadata": {},
   "source": [
    "Next, let us check which data is included within each frame of the trajectory file:"
   ]
  },
  {
   "cell_type": "code",
   "execution_count": null,
   "id": "e340b5a6",
   "metadata": {},
   "outputs": [],
   "source": [
    "traj[0].keys"
   ]
  },
  {
   "cell_type": "markdown",
   "id": "41bc9008",
   "metadata": {},
   "source": [
    "Here, `'c'` denotes the chemical field and `'p'` the bacterial density. In the following, we will analyze the latter. Let us first animate it:"
   ]
  },
  {
   "cell_type": "code",
   "execution_count": null,
   "id": "88b2c53e",
   "metadata": {},
   "outputs": [],
   "source": [
    "# visualize the time evolution of the bacterial density p\n",
    "traj.animate('./field.mp4', ftype='c', xlabel=r'$x$', ylabel=r'$y$', cbar_label=r'$c(x,y)$')"
   ]
  },
  {
   "cell_type": "markdown",
   "id": "5a1640f7",
   "metadata": {},
   "source": [
    "Next, we calculate and plot the local density distribution. Note that the following line is calculating the local density distribution for each frame within the trajectory. It is then averaging over all the results, i.e., it is performing a time average (`ldd.avg`). If the simulation is not in a steady state, one has be careful. Here, clearly not all frames are in the steady state. However, the results for each individual frame are still accessible (`ldd.frames`). We will use them here to plot the local density distribution for three different frames."
   ]
  },
  {
   "cell_type": "code",
   "execution_count": null,
   "id": "12d08c29",
   "metadata": {},
   "outputs": [],
   "source": [
    "# calculate the local density distribution\n",
    "ldd = amep.evaluate.LDdist(\n",
    "    traj, nav = traj.nframes, ftype = 'p'\n",
    ")"
   ]
  },
  {
   "cell_type": "code",
   "execution_count": null,
   "id": "06bd499f",
   "metadata": {},
   "outputs": [],
   "source": [
    "# create a new figure object\n",
    "fig, axs = amep.plot.new()\n",
    "\n",
    "# plot the results for three different frames\n",
    "axs.plot(\n",
    "    ldd.ld, ldd.frames[0,0],\n",
    "    label = traj.times[0]\n",
    ")\n",
    "axs.plot(\n",
    "    ldd.ld, ldd.frames[5,0],\n",
    "    label = traj.times[5]\n",
    ")\n",
    "\n",
    "axs.plot(\n",
    "    ldd.ld, ldd.frames[10,0],\n",
    "    label = traj.times[10]\n",
    ")\n",
    "\n",
    "# add legends and labels\n",
    "axs.legend(title = 'Time')\n",
    "axs.set_xlabel(r'$\\rho$')\n",
    "axs.set_ylabel(r'$p(\\rho)$')\n",
    "\n",
    "# save the plot as a pdf file\n",
    "fig.savefig('./continuum-example.pdf')"
   ]
  },
  {
   "cell_type": "markdown",
   "id": "fc73c7cc",
   "metadata": {},
   "source": [
    "Finally, let us save the analysis results in an HDF5 file:"
   ]
  },
  {
   "cell_type": "code",
   "execution_count": null,
   "id": "3e22bb1e",
   "metadata": {},
   "outputs": [],
   "source": [
    "ldd.save('./ldd.h5')"
   ]
  },
  {
   "cell_type": "code",
   "execution_count": null,
   "id": "3a9a6e65",
   "metadata": {},
   "outputs": [],
   "source": []
  }
 ],
 "metadata": {
  "kernelspec": {
   "display_name": "amep-py-310",
   "language": "python",
   "name": "amep-py-310"
  },
  "language_info": {
   "codemirror_mode": {
    "name": "ipython",
    "version": 3
   },
   "file_extension": ".py",
   "mimetype": "text/x-python",
   "name": "python",
   "nbconvert_exporter": "python",
   "pygments_lexer": "ipython3",
   "version": "3.10.8"
  }
 },
 "nbformat": 4,
 "nbformat_minor": 5
}
